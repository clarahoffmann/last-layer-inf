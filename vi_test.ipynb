{
 "cells": [
  {
   "cell_type": "code",
   "execution_count": 15,
   "metadata": {},
   "outputs": [],
   "source": [
    "import math\n",
    "import torch\n",
    "from tqdm import tqdm\n",
    "from typing import Tuple, Literal\n",
    "from scipy.special import gammaln\n",
    "import torch.nn as nn\n",
    "\n",
    "import torch\n",
    "import torch.nn as nn\n",
    "from tqdm import tqdm\n",
    "import matplotlib.pyplot as plt"
   ]
  },
  {
   "cell_type": "code",
   "execution_count": 16,
   "metadata": {},
   "outputs": [
    {
     "name": "stdout",
     "output_type": "stream",
     "text": [
      "True weights: tensor([ 1.5000, -2.0000,  0.5000,  0.0000,  1.0000])\n",
      "Shape of Psi: torch.Size([100, 5])\n",
      "Shape of y: torch.Size([100])\n"
     ]
    }
   ],
   "source": [
    "\n",
    "torch.manual_seed(42)\n",
    "\n",
    "N = 100   # number of observations\n",
    "L = 5     # number of features\n",
    "\n",
    "# True weights\n",
    "w_true = torch.tensor([1.5, -2.0, 0.5, 0.0, 1.0])\n",
    "sigma_eps_true = 0.1\n",
    "\n",
    "# Design matrix\n",
    "Psi = torch.randn(N, L)\n",
    "\n",
    "# Outputs\n",
    "ys = Psi @ w_true + sigma_eps_true * torch.randn(N)\n",
    "\n",
    "print(\"True weights:\", w_true)\n",
    "print(\"Shape of Psi:\", Psi.shape)\n",
    "print(\"Shape of y:\", y.shape)"
   ]
  },
  {
   "cell_type": "code",
   "execution_count": 17,
   "metadata": {},
   "outputs": [],
   "source": [
    "\n",
    "\n",
    "def get_log_likelihood_closed_form(ys: torch.Tensor, \n",
    "                                   Psi: torch.Tensor,\n",
    "                                   mu_w: torch.Tensor,  \n",
    "                                   sigma_eps_sq: torch.Tensor, \n",
    "                                   sigma_w_sq: torch.Tensor, \n",
    "                                   N: int) -> torch.Tensor:\n",
    "    pred_y = Psi @ mu_w\n",
    "    log_likelihood = (\n",
    "        - 0.5 * N * math.log(sigma_eps_sq) \n",
    "        - 0.5 * torch.sum((ys - pred_y) ** 2) / sigma_eps_sq\n",
    "    )\n",
    "\n",
    "    var_component = 0.5 * (1.0 / sigma_eps_sq) * torch.sum((Psi ** 2)* sigma_w_sq, dim=1)\n",
    "\n",
    "    likelihood = torch.sum(log_likelihood) - torch.sum(var_component)\n",
    "    return likelihood"
   ]
  },
  {
   "cell_type": "code",
   "execution_count": 18,
   "metadata": {},
   "outputs": [],
   "source": [
    "def run_vi_closed_form(ys, Psi, num_iter, sigma_0_sq, sigma_eps_sq, lr):\n",
    "\n",
    "    N, L = Psi.shape\n",
    "    mu = nn.Parameter(torch.zeros(L, requires_grad=True))\n",
    "    rho = nn.Parameter(torch.zeros(L, requires_grad=True))\n",
    "\n",
    "    optimizer = torch.optim.Adam([mu, rho], lr=lr)\n",
    "    elbos = []\n",
    "    \n",
    "    for _ in tqdm(range(num_iter)):\n",
    "        optimizer.zero_grad()\n",
    "\n",
    "        # transformation to ensure sigma is pos.\n",
    "        sigma_w = torch.exp(rho) + 1e-5\n",
    "        #sigma_w = torch.clamp(sigma_w, min=1e-4)\n",
    "        \n",
    "        # compute elbo in closed form\n",
    "        log_likelihood = get_log_likelihood_closed_form(ys = ys, \n",
    "                                                        Psi = Psi, \n",
    "                                                        mu_w = mu, \n",
    "                                                        sigma_eps_sq = sigma_eps_sq, \n",
    "                                                        sigma_w_sq = sigma_w**2, N = N)\n",
    "        kld = 0.5 * torch.sum(\n",
    "            torch.log(sigma_0_sq / sigma_w**2) +\n",
    "            (sigma_w**2 + mu**2) / sigma_0_sq -\n",
    "            1\n",
    "        )\n",
    "\n",
    "        elbo = log_likelihood - .5* kld\n",
    "        loss = - elbo\n",
    "\n",
    "        loss.backward()\n",
    "        optimizer.step()\n",
    "\n",
    "        elbos.append(elbo.item())\n",
    "    \n",
    "    lambdas = {\n",
    "            'mu': mu.detach(),\n",
    "            'sigma': torch.exp(rho.detach()),\n",
    "        }\n",
    "\n",
    "    return lambdas, elbos\n"
   ]
  },
  {
   "cell_type": "code",
   "execution_count": 31,
   "metadata": {},
   "outputs": [
    {
     "name": "stderr",
     "output_type": "stream",
     "text": [
      "100%|██████████| 10000/10000 [00:01<00:00, 5373.25it/s]\n"
     ]
    }
   ],
   "source": [
    "lambdas, elbos = run_vi_closed_form(ys = ys, Psi = Psi, num_iter = 10000, sigma_0_sq = .1**2, sigma_eps_sq = sigma_eps_true**2, lr = 1e-3)"
   ]
  },
  {
   "cell_type": "code",
   "execution_count": 32,
   "metadata": {},
   "outputs": [
    {
     "data": {
      "image/png": "[encoded data removed]",
      "text/plain": [
       "<Figure size 400x300 with 1 Axes>"
      ]
     },
     "metadata": {},
     "output_type": "display_data"
    }
   ],
   "source": [
    "fig, axs = plt.subplots(1,1, figsize = (4,3))\n",
    "axs.plot(elbos)\n",
    "axs.set_yscale('symlog', base=10)"
   ]
  },
  {
   "cell_type": "code",
   "execution_count": 33,
   "metadata": {},
   "outputs": [
    {
     "data": {
      "text/plain": [
       "[<matplotlib.lines.Line2D at 0x13a1e6490>]"
      ]
     },
     "execution_count": 33,
     "metadata": {},
     "output_type": "execute_result"
    },
    {
     "data": {
      "image/png": "[encoded data removed]",
      "text/plain": [
       "<Figure size 640x480 with 1 Axes>"
      ]
     },
     "metadata": {},
     "output_type": "display_data"
    }
   ],
   "source": [
    "plt.scatter(w_true, lambdas['mu'], color = 'black')\n",
    "plt.plot([-2,2], [-2,2], color ='black', alpha = .5, linestyle = 'dashed')"
   ]
  },
  {
   "cell_type": "code",
   "execution_count": null,
   "metadata": {},
   "outputs": [],
   "source": []
  },
  {
   "cell_type": "code",
   "execution_count": null,
   "metadata": {},
   "outputs": [],
   "source": []
  }
 ],
 "metadata": {
  "kernelspec": {
   "display_name": "last-layer-inf-SSJvDkLM-py3.13",
   "language": "python",
   "name": "python3"
  },
  "language_info": {
   "codemirror_mode": {
    "name": "ipython",
    "version": 3
   },
   "file_extension": ".py",
   "mimetype": "text/x-python",
   "name": "python",
   "nbconvert_exporter": "python",
   "pygments_lexer": "ipython3",
   "version": "3.13.3"
  }
 },
 "nbformat": 4,
 "nbformat_minor": 2
}
