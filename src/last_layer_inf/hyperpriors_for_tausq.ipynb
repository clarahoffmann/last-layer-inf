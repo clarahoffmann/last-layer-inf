{
 "cells": [
  {
   "cell_type": "code",
   "execution_count": 6,
   "metadata": {},
   "outputs": [],
   "source": [
    "import matplotlib.pyplot as plt\n",
    "import numpy as np\n",
    "from scipy import stats"
   ]
  },
  {
   "cell_type": "markdown",
   "metadata": {},
   "source": [
    "1. Scale-dependent prior by Klein, Kneib (2016)"
   ]
  },
  {
   "cell_type": "code",
   "execution_count": 7,
   "metadata": {},
   "outputs": [
    {
     "name": "stderr",
     "output_type": "stream",
     "text": [
      "/Users/clarahoffmann/Library/Caches/pypoetry/virtualenvs/last-layer-inf-SSJvDkLM-py3.13/lib/python3.13/site-packages/scipy/stats/_continuous_distns.py:2747: RuntimeWarning: divide by zero encountered in power\n",
      "  return c*pow(x, c-1)*np.exp(-pow(x, c))\n"
     ]
    }
   ],
   "source": [
    "shape = 0.5   #shape parameter\n",
    "scale =2.5   # nu (scale parameter)\n",
    "\n",
    "# Interval [0, 0.01]\n",
    "x = np.linspace(0, 0.01, 500)\n",
    "pdf_scale = stats.weibull_min.pdf(x, c=shape, scale=scale)"
   ]
  },
  {
   "cell_type": "markdown",
   "metadata": {},
   "source": [
    "2. Inverse gamma a = 1"
   ]
  },
  {
   "cell_type": "code",
   "execution_count": 9,
   "metadata": {},
   "outputs": [],
   "source": [
    "alpha = 1  # shape parameter (often denoted as 'a')\n",
    "x = np.linspace(0.0001, 0.01, 500) \n",
    "pdf_ig = stats.invgamma.pdf(x, a=alpha, scale=scale)"
   ]
  },
  {
   "cell_type": "markdown",
   "metadata": {},
   "source": [
    "3. Half-normal for tau"
   ]
  },
  {
   "cell_type": "code",
   "execution_count": 11,
   "metadata": {},
   "outputs": [],
   "source": [
    "x = np.linspace(0, 0.01, 500)\n",
    "pdf_half_normal = stats.halfnorm.pdf(x, scale=scale)"
   ]
  },
  {
   "cell_type": "markdown",
   "metadata": {},
   "source": [
    "4. Half-Cauchy for tau"
   ]
  },
  {
   "cell_type": "code",
   "execution_count": 13,
   "metadata": {},
   "outputs": [],
   "source": [
    "x = np.linspace(0, 0.01, 500)\n",
    "pdf_half_cauchy = stats.halfcauchy.pdf(x, scale=scale)"
   ]
  },
  {
   "cell_type": "code",
   "execution_count": null,
   "metadata": {},
   "outputs": [],
   "source": [
    "plt.figure(figsize=(10, 6))\n",
    "for pdf, label in zip([pdf_scale, pdf_ig, pdf_half_normal, pdf_half_cauchy], [\"Scale-dependent\", \"Inverse Gamma\", \"Half-Normal\", \"Half-Cauchy\"])\n",
    "    plt.plot(pdf, label = label)"
   ]
  }
 ],
 "metadata": {
  "kernelspec": {
   "display_name": "last-layer-inf-SSJvDkLM-py3.13",
   "language": "python",
   "name": "python3"
  },
  "language_info": {
   "codemirror_mode": {
    "name": "ipython",
    "version": 3
   },
   "file_extension": ".py",
   "mimetype": "text/x-python",
   "name": "python",
   "nbconvert_exporter": "python",
   "pygments_lexer": "ipython3",
   "version": "3.13.3"
  }
 },
 "nbformat": 4,
 "nbformat_minor": 2
}
